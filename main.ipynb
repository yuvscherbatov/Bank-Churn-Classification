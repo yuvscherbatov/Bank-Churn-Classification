{
 "cells": [
  {
   "cell_type": "markdown",
   "id": "64d497f4",
   "metadata": {},
   "source": [
    "## Метрика оценивания соревнования на Kaggle"
   ]
  },
  {
   "cell_type": "markdown",
   "id": "193be2fc",
   "metadata": {},
   "source": [
    "Метрикой оценки является площадь под ROC-кривой(**ROC-AUC**) между предсказанной вероятностью и наблюдаемым значением."
   ]
  },
  {
   "cell_type": "markdown",
   "id": "1d257e42",
   "metadata": {},
   "source": [
    "## Загрузка библиотек"
   ]
  },
  {
   "cell_type": "code",
   "execution_count": 1,
   "id": "e44727ce",
   "metadata": {},
   "outputs": [],
   "source": [
    "import pandas as pd\n",
    "import numpy as np\n",
    "import matplotlib.pyplot as plt\n",
    "from sklearn.linear_model import LogisticRegression\n",
    "from sklearn.metrics import confusion_matrix, ConfusionMatrixDisplay, accuracy_score, precision_score, recall_score, f1_score, roc_auc_score\n",
    "from sklearn.model_selection import train_test_split, GridSearchCV, KFold\n",
    "from sklearn.preprocessing import LabelEncoder, StandardScaler\n",
    "from sklearn.ensemble import RandomForestClassifier\n",
    "from catboost import CatBoostClassifier"
   ]
  },
  {
   "cell_type": "markdown",
   "id": "9c723e93",
   "metadata": {},
   "source": [
    "# Предобработка данных"
   ]
  },
  {
   "cell_type": "markdown",
   "id": "3a7e4c7d",
   "metadata": {},
   "source": [
    "## Загрузка данных"
   ]
  },
  {
   "cell_type": "code",
   "execution_count": 2,
   "id": "c3f16171",
   "metadata": {},
   "outputs": [],
   "source": [
    "train_df = pd.read_csv('data/train.csv')\n",
    "test_df = pd.read_csv('data/test.csv')"
   ]
  },
  {
   "cell_type": "code",
   "execution_count": 3,
   "id": "36c64c18",
   "metadata": {},
   "outputs": [
    {
     "data": {
      "text/html": [
       "<div>\n",
       "<style scoped>\n",
       "    .dataframe tbody tr th:only-of-type {\n",
       "        vertical-align: middle;\n",
       "    }\n",
       "\n",
       "    .dataframe tbody tr th {\n",
       "        vertical-align: top;\n",
       "    }\n",
       "\n",
       "    .dataframe thead th {\n",
       "        text-align: right;\n",
       "    }\n",
       "</style>\n",
       "<table border=\"1\" class=\"dataframe\">\n",
       "  <thead>\n",
       "    <tr style=\"text-align: right;\">\n",
       "      <th></th>\n",
       "      <th>id</th>\n",
       "      <th>CustomerId</th>\n",
       "      <th>Surname</th>\n",
       "      <th>CreditScore</th>\n",
       "      <th>Geography</th>\n",
       "      <th>Gender</th>\n",
       "      <th>Age</th>\n",
       "      <th>Tenure</th>\n",
       "      <th>Balance</th>\n",
       "      <th>NumOfProducts</th>\n",
       "      <th>HasCrCard</th>\n",
       "      <th>IsActiveMember</th>\n",
       "      <th>EstimatedSalary</th>\n",
       "      <th>Exited</th>\n",
       "    </tr>\n",
       "  </thead>\n",
       "  <tbody>\n",
       "    <tr>\n",
       "      <th>0</th>\n",
       "      <td>0</td>\n",
       "      <td>15674932</td>\n",
       "      <td>Okwudilichukwu</td>\n",
       "      <td>668</td>\n",
       "      <td>France</td>\n",
       "      <td>Male</td>\n",
       "      <td>33.0</td>\n",
       "      <td>3</td>\n",
       "      <td>0.00</td>\n",
       "      <td>2</td>\n",
       "      <td>1.0</td>\n",
       "      <td>0.0</td>\n",
       "      <td>181449.97</td>\n",
       "      <td>0</td>\n",
       "    </tr>\n",
       "    <tr>\n",
       "      <th>1</th>\n",
       "      <td>1</td>\n",
       "      <td>15749177</td>\n",
       "      <td>Okwudiliolisa</td>\n",
       "      <td>627</td>\n",
       "      <td>France</td>\n",
       "      <td>Male</td>\n",
       "      <td>33.0</td>\n",
       "      <td>1</td>\n",
       "      <td>0.00</td>\n",
       "      <td>2</td>\n",
       "      <td>1.0</td>\n",
       "      <td>1.0</td>\n",
       "      <td>49503.50</td>\n",
       "      <td>0</td>\n",
       "    </tr>\n",
       "    <tr>\n",
       "      <th>2</th>\n",
       "      <td>2</td>\n",
       "      <td>15694510</td>\n",
       "      <td>Hsueh</td>\n",
       "      <td>678</td>\n",
       "      <td>France</td>\n",
       "      <td>Male</td>\n",
       "      <td>40.0</td>\n",
       "      <td>10</td>\n",
       "      <td>0.00</td>\n",
       "      <td>2</td>\n",
       "      <td>1.0</td>\n",
       "      <td>0.0</td>\n",
       "      <td>184866.69</td>\n",
       "      <td>0</td>\n",
       "    </tr>\n",
       "    <tr>\n",
       "      <th>3</th>\n",
       "      <td>3</td>\n",
       "      <td>15741417</td>\n",
       "      <td>Kao</td>\n",
       "      <td>581</td>\n",
       "      <td>France</td>\n",
       "      <td>Male</td>\n",
       "      <td>34.0</td>\n",
       "      <td>2</td>\n",
       "      <td>148882.54</td>\n",
       "      <td>1</td>\n",
       "      <td>1.0</td>\n",
       "      <td>1.0</td>\n",
       "      <td>84560.88</td>\n",
       "      <td>0</td>\n",
       "    </tr>\n",
       "    <tr>\n",
       "      <th>4</th>\n",
       "      <td>4</td>\n",
       "      <td>15766172</td>\n",
       "      <td>Chiemenam</td>\n",
       "      <td>716</td>\n",
       "      <td>Spain</td>\n",
       "      <td>Male</td>\n",
       "      <td>33.0</td>\n",
       "      <td>5</td>\n",
       "      <td>0.00</td>\n",
       "      <td>2</td>\n",
       "      <td>1.0</td>\n",
       "      <td>1.0</td>\n",
       "      <td>15068.83</td>\n",
       "      <td>0</td>\n",
       "    </tr>\n",
       "  </tbody>\n",
       "</table>\n",
       "</div>"
      ],
      "text/plain": [
       "   id  CustomerId         Surname  CreditScore Geography Gender   Age  Tenure  \\\n",
       "0   0    15674932  Okwudilichukwu          668    France   Male  33.0       3   \n",
       "1   1    15749177   Okwudiliolisa          627    France   Male  33.0       1   \n",
       "2   2    15694510           Hsueh          678    France   Male  40.0      10   \n",
       "3   3    15741417             Kao          581    France   Male  34.0       2   \n",
       "4   4    15766172       Chiemenam          716     Spain   Male  33.0       5   \n",
       "\n",
       "     Balance  NumOfProducts  HasCrCard  IsActiveMember  EstimatedSalary  \\\n",
       "0       0.00              2        1.0             0.0        181449.97   \n",
       "1       0.00              2        1.0             1.0         49503.50   \n",
       "2       0.00              2        1.0             0.0        184866.69   \n",
       "3  148882.54              1        1.0             1.0         84560.88   \n",
       "4       0.00              2        1.0             1.0         15068.83   \n",
       "\n",
       "   Exited  \n",
       "0       0  \n",
       "1       0  \n",
       "2       0  \n",
       "3       0  \n",
       "4       0  "
      ]
     },
     "execution_count": 3,
     "metadata": {},
     "output_type": "execute_result"
    }
   ],
   "source": [
    "train_df.head()"
   ]
  },
  {
   "cell_type": "markdown",
   "id": "d7c39f61",
   "metadata": {},
   "source": [
    "Сразу сохраняю колонку 'id' для дальнейшего создания файла с прогнозом для тестовой выборки"
   ]
  },
  {
   "cell_type": "code",
   "execution_count": 4,
   "id": "3bf1dc04",
   "metadata": {},
   "outputs": [],
   "source": [
    "submission = pd.DataFrame(test_df[\"id\"])"
   ]
  },
  {
   "cell_type": "markdown",
   "id": "34310a83",
   "metadata": {},
   "source": [
    "## Удаление ненужных признаков и повторяющихся строк"
   ]
  },
  {
   "cell_type": "code",
   "execution_count": 5,
   "id": "daceba03",
   "metadata": {},
   "outputs": [],
   "source": [
    "train_df = train_df.drop(['id', 'CustomerId', 'Surname'], axis = 1)\n",
    "test_df = test_df.drop(['id', 'CustomerId', 'Surname'], axis = 1)"
   ]
  },
  {
   "cell_type": "code",
   "execution_count": 6,
   "id": "d3d67f9f",
   "metadata": {},
   "outputs": [],
   "source": [
    "train_df = train_df.drop_duplicates()"
   ]
  },
  {
   "cell_type": "markdown",
   "id": "37851b7a",
   "metadata": {},
   "source": [
    "## Добавление новых признаков"
   ]
  },
  {
   "cell_type": "code",
   "execution_count": 7,
   "id": "bae655cc",
   "metadata": {},
   "outputs": [],
   "source": [
    "train_df['IsActiveByCrCard'] = train_df['HasCrCard'] * train_df['IsActiveMember']\n",
    "train_df['TenureAgeRatio'] = train_df['Tenure'] / train_df['Age']\n",
    "test_df['IsActiveByCrCard'] = test_df['HasCrCard'] * test_df['IsActiveMember']\n",
    "test_df['TenureAgeRatio'] = test_df['Tenure'] / test_df['Age']"
   ]
  },
  {
   "cell_type": "markdown",
   "id": "e2384e3e",
   "metadata": {},
   "source": [
    "## Кодировка категориальных признаков"
   ]
  },
  {
   "cell_type": "code",
   "execution_count": 8,
   "id": "e240ac08",
   "metadata": {},
   "outputs": [],
   "source": [
    "le = LabelEncoder()\n",
    "columns = ['Geography', 'Gender']\n",
    "for col in columns:\n",
    "    train_df[col] = le.fit_transform(train_df[col])\n",
    "for col in test_df.columns:\n",
    "    test_df[col] = le.fit_transform(test_df[col])"
   ]
  },
  {
   "cell_type": "markdown",
   "id": "e8d4d517",
   "metadata": {},
   "source": [
    "## Применение стандартизации"
   ]
  },
  {
   "cell_type": "code",
   "execution_count": 9,
   "id": "b57dd56a",
   "metadata": {},
   "outputs": [],
   "source": [
    "scaler = StandardScaler()\n",
    "train_df[['CreditScore', 'Age', 'Tenure', 'Balance', 'NumOfProducts', 'EstimatedSalary', 'TenureAgeRatio']] = scaler.fit_transform(train_df[['CreditScore', 'Age', 'Tenure', 'Balance', 'NumOfProducts', 'EstimatedSalary', 'TenureAgeRatio']])\n",
    "test_df[['CreditScore', 'Age', 'Tenure', 'Balance', 'NumOfProducts', 'EstimatedSalary', 'TenureAgeRatio']] = scaler.fit_transform(test_df[['CreditScore', 'Age', 'Tenure', 'Balance', 'NumOfProducts', 'EstimatedSalary', 'TenureAgeRatio']])"
   ]
  },
  {
   "cell_type": "markdown",
   "id": "6219c3ab",
   "metadata": {},
   "source": [
    "## Разделение данных на тренировочную и тестовую выборки"
   ]
  },
  {
   "cell_type": "code",
   "execution_count": 10,
   "id": "ce9a8301",
   "metadata": {},
   "outputs": [],
   "source": [
    "X = train_df.drop(['Exited'], axis = 1)\n",
    "y = train_df['Exited']"
   ]
  },
  {
   "cell_type": "code",
   "execution_count": 11,
   "id": "7f99cde3",
   "metadata": {},
   "outputs": [],
   "source": [
    "X_train, X_test, y_train, y_test = train_test_split(X, y, test_size=0.2, random_state=42)"
   ]
  },
  {
   "cell_type": "markdown",
   "id": "360b9722",
   "metadata": {},
   "source": [
    "## Функция для вывода метрик"
   ]
  },
  {
   "cell_type": "code",
   "execution_count": 12,
   "id": "568b1969",
   "metadata": {},
   "outputs": [],
   "source": [
    "def metrics_summary(y_pred, y_pred_proba):\n",
    "    print('Accuracy: ', accuracy_score(y_test, y_pred))\n",
    "    print('Precision: ', precision_score(y_test, y_pred))\n",
    "    print('Recall: ', recall_score(y_test, y_pred))\n",
    "    print('F1: ', f1_score(y_test, y_pred))\n",
    "    print('\\033[1mROC-AUC: \\033[0m', roc_auc_score(y_test, y_pred_proba))\n",
    "    return None"
   ]
  },
  {
   "cell_type": "markdown",
   "id": "be199aab",
   "metadata": {},
   "source": [
    "# Модель логистической регрессии"
   ]
  },
  {
   "cell_type": "markdown",
   "id": "23158d8a",
   "metadata": {},
   "source": [
    "### Обучение модели"
   ]
  },
  {
   "cell_type": "code",
   "execution_count": 13,
   "id": "278b6543",
   "metadata": {},
   "outputs": [],
   "source": [
    "logreg_clf = LogisticRegression(class_weight = 'balanced').fit(X_train, y_train)"
   ]
  },
  {
   "cell_type": "markdown",
   "id": "24349891",
   "metadata": {},
   "source": [
    "### Тестирование модели и результаты по основным метрикам"
   ]
  },
  {
   "cell_type": "code",
   "execution_count": 14,
   "id": "47b90d53",
   "metadata": {},
   "outputs": [],
   "source": [
    "y_pred = logreg_clf.predict(X_test)\n",
    "y_pred_proba = logreg_clf.predict_proba(X_test)[:, 1]"
   ]
  },
  {
   "cell_type": "code",
   "execution_count": 15,
   "id": "9f37e935",
   "metadata": {},
   "outputs": [
    {
     "name": "stdout",
     "output_type": "stream",
     "text": [
      "Accuracy:  0.7427159445775097\n",
      "Precision:  0.43865603258102837\n",
      "Recall:  0.734375\n",
      "F1:  0.5492404121958993\n",
      "\u001b[1mROC-AUC: \u001b[0m 0.8075491467526711\n"
     ]
    }
   ],
   "source": [
    "metrics_summary(y_pred, y_pred_proba)"
   ]
  },
  {
   "cell_type": "code",
   "execution_count": 16,
   "id": "6f384a65",
   "metadata": {},
   "outputs": [
    {
     "data": {
      "image/png": "[encoded data removed]",
      "text/plain": [
       "<Figure size 432x288 with 2 Axes>"
      ]
     },
     "metadata": {
      "needs_background": "light"
     },
     "output_type": "display_data"
    }
   ],
   "source": [
    "disp = ConfusionMatrixDisplay(confusion_matrix=confusion_matrix(y_test, y_pred, labels=logreg_clf.classes_),\n",
    "                              display_labels=logreg_clf.classes_)\n",
    "disp.plot()\n",
    "plt.show()"
   ]
  },
  {
   "cell_type": "markdown",
   "id": "51a451c9",
   "metadata": {},
   "source": [
    "### Kaggle Score"
   ]
  },
  {
   "cell_type": "code",
   "execution_count": 17,
   "id": "63eb724d",
   "metadata": {},
   "outputs": [],
   "source": [
    "submission['Exited'] = logreg_clf.predict(test_df)"
   ]
  },
  {
   "cell_type": "code",
   "execution_count": 18,
   "id": "51416098",
   "metadata": {},
   "outputs": [],
   "source": [
    "submission.to_csv(\"data/submissions/logreg_submission.csv\", index=False)"
   ]
  },
  {
   "cell_type": "markdown",
   "id": "2c43cb6c",
   "metadata": {},
   "source": [
    "![logreg_submission](data/img/logreg_submission.png)"
   ]
  },
  {
   "cell_type": "markdown",
   "id": "002c46a5",
   "metadata": {},
   "source": [
    "## Модель случайного леса"
   ]
  },
  {
   "cell_type": "code",
   "execution_count": 19,
   "id": "e3e540fa",
   "metadata": {},
   "outputs": [],
   "source": [
    "rf_clf = RandomForestClassifier(class_weight = 'balanced')"
   ]
  },
  {
   "cell_type": "markdown",
   "id": "4b7198b1",
   "metadata": {},
   "source": [
    "### Поиск оптимальных гиперпараметров с помощью кросс-валидации"
   ]
  },
  {
   "cell_type": "code",
   "execution_count": 20,
   "id": "00213d48",
   "metadata": {},
   "outputs": [],
   "source": [
    "parameters = {'n_estimators': [200, 300, 400, 500],\n",
    "              'max_depth': [7, 10, 13, 15]}"
   ]
  },
  {
   "cell_type": "code",
   "execution_count": 21,
   "id": "b09f8e38",
   "metadata": {},
   "outputs": [],
   "source": [
    "cv = KFold(n_splits=5,\n",
    "           shuffle=True,\n",
    "           random_state=42)"
   ]
  },
  {
   "cell_type": "code",
   "execution_count": 22,
   "id": "b16d049f",
   "metadata": {},
   "outputs": [],
   "source": [
    "grid_search_cv_clf = GridSearchCV(estimator=rf_clf,\n",
    "                                  param_grid=parameters,\n",
    "                                  cv=cv,\n",
    "                                  scoring='roc_auc')"
   ]
  },
  {
   "cell_type": "code",
   "execution_count": 23,
   "id": "faad29ce",
   "metadata": {},
   "outputs": [
    {
     "name": "stdout",
     "output_type": "stream",
     "text": [
      "Лучшие параметры модели:  {'max_depth': 10, 'n_estimators': 500}\n"
     ]
    }
   ],
   "source": [
    "grid_search_cv_clf.fit(X_train, y_train)\n",
    "print(\"Лучшие параметры модели: \", grid_search_cv_clf.best_params_)"
   ]
  },
  {
   "cell_type": "markdown",
   "id": "d85b764f",
   "metadata": {},
   "source": [
    "### Тестирование модели и результаты по основным метрикам"
   ]
  },
  {
   "cell_type": "code",
   "execution_count": 24,
   "id": "8709eaef",
   "metadata": {},
   "outputs": [],
   "source": [
    "best_rf_clf = grid_search_cv_clf.best_estimator_"
   ]
  },
  {
   "cell_type": "code",
   "execution_count": 25,
   "id": "d7700a93",
   "metadata": {},
   "outputs": [],
   "source": [
    "y_pred = best_rf_clf.predict(X_test)\n",
    "y_pred_proba = best_rf_clf.predict_proba(X_test)[:, 1]"
   ]
  },
  {
   "cell_type": "code",
   "execution_count": 26,
   "id": "ec81ffbc",
   "metadata": {},
   "outputs": [
    {
     "name": "stdout",
     "output_type": "stream",
     "text": [
      "Accuracy:  0.8129036170148258\n",
      "Precision:  0.5428627799151623\n",
      "Recall:  0.7816761363636363\n",
      "F1:  0.640740525120801\n",
      "\u001b[1mROC-AUC: \u001b[0m 0.8847530167754132\n"
     ]
    }
   ],
   "source": [
    "metrics_summary(y_pred, y_pred_proba)"
   ]
  },
  {
   "cell_type": "code",
   "execution_count": 27,
   "id": "60cf528d",
   "metadata": {},
   "outputs": [
    {
     "data": {
      "image/png": "[encoded data removed]",
      "text/plain": [
       "<Figure size 432x288 with 2 Axes>"
      ]
     },
     "metadata": {
      "needs_background": "light"
     },
     "output_type": "display_data"
    }
   ],
   "source": [
    "disp = ConfusionMatrixDisplay(confusion_matrix=confusion_matrix(y_test, y_pred, labels=best_rf_clf.classes_),\n",
    "                              display_labels=best_rf_clf.classes_)\n",
    "disp.plot()\n",
    "plt.show()"
   ]
  },
  {
   "cell_type": "markdown",
   "id": "8cb51d15",
   "metadata": {},
   "source": [
    "### Kaggle Score"
   ]
  },
  {
   "cell_type": "code",
   "execution_count": 28,
   "id": "1782e793",
   "metadata": {},
   "outputs": [],
   "source": [
    "submission['Exited'] = best_rf_clf.predict(test_df)"
   ]
  },
  {
   "cell_type": "code",
   "execution_count": 29,
   "id": "3ae3276c",
   "metadata": {},
   "outputs": [],
   "source": [
    "submission.to_csv(\"data/submissions/rf_submission.csv\", index=False)"
   ]
  },
  {
   "cell_type": "markdown",
   "id": "7b594874",
   "metadata": {},
   "source": [
    "![rf_submission](data/img/rf_submission.png)"
   ]
  },
  {
   "cell_type": "markdown",
   "id": "97230e7e",
   "metadata": {},
   "source": [
    "## Модель градиентного бустинга"
   ]
  },
  {
   "cell_type": "code",
   "execution_count": 30,
   "id": "8c6ce044",
   "metadata": {},
   "outputs": [],
   "source": [
    "catboost_clf = CatBoostClassifier(auto_class_weights='Balanced')"
   ]
  },
  {
   "cell_type": "markdown",
   "id": "01701ee5",
   "metadata": {},
   "source": [
    "### Поиск оптимальных гиперпараметров с помощью кросс-валидации"
   ]
  },
  {
   "cell_type": "code",
   "execution_count": 31,
   "id": "344e65a9",
   "metadata": {},
   "outputs": [],
   "source": [
    "parameters = {'iterations': [200, 300, 400, 500],\n",
    "              'depth': [3, 5, 7, 10],\n",
    "              'learning_rate' : [0.01, 0.1, 0.3],\n",
    "              'l2_leaf_reg': [1, 3, 5, 10]}"
   ]
  },
  {
   "cell_type": "code",
   "execution_count": 32,
   "id": "f60c8da8",
   "metadata": {},
   "outputs": [],
   "source": [
    "cv = KFold(n_splits=5,\n",
    "           shuffle=True,\n",
    "           random_state=42)"
   ]
  },
  {
   "cell_type": "code",
   "execution_count": 33,
   "id": "c949aa9c",
   "metadata": {},
   "outputs": [],
   "source": [
    "grid_search_cv_clf = GridSearchCV(estimator=catboost_clf,\n",
    "                                  param_grid=parameters,\n",
    "                                  cv=cv,\n",
    "                                  scoring='roc_auc')"
   ]
  },
  {
   "cell_type": "code",
   "execution_count": 34,
   "id": "ccd5c8de",
   "metadata": {
    "scrolled": true
   },
   "outputs": [],
   "source": [
    "grid_search_cv = grid_search_cv_clf.fit(X_train, y_train, verbose=False)"
   ]
  },
  {
   "cell_type": "code",
   "execution_count": 35,
   "id": "8a78f10e",
   "metadata": {},
   "outputs": [
    {
     "name": "stdout",
     "output_type": "stream",
     "text": [
      "Лучшие параметры модели:  {'depth': 5, 'iterations': 200, 'l2_leaf_reg': 10, 'learning_rate': 0.1}\n"
     ]
    }
   ],
   "source": [
    "print(\"Лучшие параметры модели: \", grid_search_cv_clf.best_params_)"
   ]
  },
  {
   "cell_type": "markdown",
   "id": "13663713",
   "metadata": {},
   "source": [
    "### Тестирование модели и результаты по основным метрикам"
   ]
  },
  {
   "cell_type": "code",
   "execution_count": 36,
   "id": "dc1f6994",
   "metadata": {},
   "outputs": [],
   "source": [
    "best_catboost_clf = grid_search_cv_clf.best_estimator_"
   ]
  },
  {
   "cell_type": "code",
   "execution_count": 37,
   "id": "8263dcee",
   "metadata": {},
   "outputs": [],
   "source": [
    "y_pred = best_catboost_clf.predict(X_test)\n",
    "y_pred_proba = best_catboost_clf.predict_proba(X_test)[:, 1]"
   ]
  },
  {
   "cell_type": "code",
   "execution_count": 38,
   "id": "fae0ab9c",
   "metadata": {},
   "outputs": [
    {
     "name": "stdout",
     "output_type": "stream",
     "text": [
      "Accuracy:  0.8104174877967438\n",
      "Precision:  0.5378766002502647\n",
      "Recall:  0.79375\n",
      "F1:  0.6412301336852373\n",
      "\u001b[1mROC-AUC: \u001b[0m 0.8900043676390197\n"
     ]
    }
   ],
   "source": [
    "metrics_summary(y_pred, y_pred_proba)"
   ]
  },
  {
   "cell_type": "code",
   "execution_count": 39,
   "id": "4404280d",
   "metadata": {},
   "outputs": [
    {
     "data": {
      "image/png": "[encoded data removed]",
      "text/plain": [
       "<Figure size 432x288 with 2 Axes>"
      ]
     },
     "metadata": {
      "needs_background": "light"
     },
     "output_type": "display_data"
    }
   ],
   "source": [
    "disp = ConfusionMatrixDisplay(confusion_matrix=confusion_matrix(y_test, y_pred, labels=best_catboost_clf.classes_),\n",
    "                              display_labels=best_catboost_clf.classes_)\n",
    "disp.plot()\n",
    "plt.show()"
   ]
  },
  {
   "cell_type": "markdown",
   "id": "0ea73abe",
   "metadata": {},
   "source": [
    "### Kaggle Score"
   ]
  },
  {
   "cell_type": "code",
   "execution_count": 40,
   "id": "20825432",
   "metadata": {},
   "outputs": [],
   "source": [
    "submission['Exited'] = best_catboost_clf.predict(test_df)"
   ]
  },
  {
   "cell_type": "code",
   "execution_count": 41,
   "id": "ea0a2bf3",
   "metadata": {},
   "outputs": [],
   "source": [
    "submission.to_csv(\"data/submissions/catboost_submission.csv\", index=False)"
   ]
  },
  {
   "cell_type": "markdown",
   "id": "81fb5795",
   "metadata": {},
   "source": [
    "![catboost_submission](data/img/catboost_submission.png)"
   ]
  },
  {
   "cell_type": "markdown",
   "id": "2548f328",
   "metadata": {},
   "source": [
    "## Результаты"
   ]
  },
  {
   "cell_type": "markdown",
   "id": "55ad04e5",
   "metadata": {},
   "source": [
    "- При построении моделей были использованы исскуственно созданные признаки;\n",
    "- Категориальные признаки были перекодированы;\n",
    "- Признаки подверглись стандартизации;\n",
    "- Были построены 3 модели;\n",
    "- Для подбора параметров моделей Случайного лес и Градиентного бустинга использовалась кросс-валидация;\n",
    "- Наилучший результат показал Градиентный бустинг, но у Случайного леса почти такой же результат."
   ]
  },
  {
   "cell_type": "markdown",
   "id": "58ebeae9",
   "metadata": {},
   "source": [
    "### Итоговые показатели метрики ROC-AUC для каждой модели на тестовой выборке"
   ]
  },
  {
   "cell_type": "markdown",
   "id": "e3471c11",
   "metadata": {},
   "source": [
    "- **_Логистическая регрессия_** - 0.73850\n",
    "- **_Случайный лес_** - 0.79678\n",
    "- **_Градиентный бустинг_** - 0.79964"
   ]
  }
 ],
 "metadata": {
  "kernelspec": {
   "display_name": "Python 3 (ipykernel)",
   "language": "python",
   "name": "python3"
  },
  "language_info": {
   "codemirror_mode": {
    "name": "ipython",
    "version": 3
   },
   "file_extension": ".py",
   "mimetype": "text/x-python",
   "name": "python",
   "nbconvert_exporter": "python",
   "pygments_lexer": "ipython3",
   "version": "3.9.7"
  }
 },
 "nbformat": 4,
 "nbformat_minor": 5
}
